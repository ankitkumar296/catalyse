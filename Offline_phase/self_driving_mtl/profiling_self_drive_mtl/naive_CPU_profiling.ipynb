{
 "cells": [
  {
   "cell_type": "code",
   "execution_count": 1,
   "metadata": {},
   "outputs": [],
   "source": [
    "import numpy as np\n",
    "import pandas as pd\n",
    "import matplotlib.pyplot as plt"
   ]
  },
  {
   "cell_type": "code",
   "execution_count": 4,
   "metadata": {},
   "outputs": [],
   "source": [
    "layer_ex = np.genfromtxt('./readings/single_layer_profile_self_driving_mtl_for_percentage.csv', delimiter=',', skip_header=0)\n"
   ]
  },
  {
   "cell_type": "code",
   "execution_count": 5,
   "metadata": {},
   "outputs": [],
   "source": [
    "def make_heatmap(readings,name):\n",
    "    plt.imshow(readings, cmap='cividis', interpolation='nearest')\n",
    "    path='./'+name+'.png'\n",
    "    plt.colorbar()\n",
    "    plt.title(name)\n",
    "    plt.savefig(path)\n",
    "    plt.close()\n",
    "    plt.show()\n",
    "    \n",
    "make_heatmap(layer_ex,\"Demo\")"
   ]
  },
  {
   "cell_type": "code",
   "execution_count": 5,
   "metadata": {},
   "outputs": [
    {
     "name": "stdout",
     "output_type": "stream",
     "text": [
      "[5, 1, 3, 6, 0, 2, 4]\n"
     ]
    }
   ],
   "source": [
    "# Example list\n",
    "data = [3.2, 1.5, 4.7, 2.3, 5.1, 0.9, 2.8]\n",
    "\n",
    "# Get the original indices of elements when sorted in ascending order\n",
    "original_indices = [index for index, _ in sorted(enumerate(data), key=lambda x: x[1])]\n",
    "\n",
    "# Print the list of original indices\n",
    "print(original_indices)\n"
   ]
  },
  {
   "cell_type": "code",
   "execution_count": 6,
   "metadata": {},
   "outputs": [
    {
     "name": "stdout",
     "output_type": "stream",
     "text": [
      "[0, 1, 2, 3, 4, 5, 6, 7, 8, 9, 10, 11, 12, 13, 14, 15, 16, 17, 18, 19, 20, 21, 22, 23]\n",
      "[0, 6, 12, 18, 1, 23, 7, 16, 5, 19, 8, 17, 20, 15, 11, 22, 13, 10, 3, 14, 9, 4, 2, 21]\n",
      "[18, 6, 13, 12, 15, 11, 16, 7, 10, 14, 19, 21, 4, 8, 20, 9, 22, 2, 5, 17, 23, 3, 0, 1]\n",
      "[8, 13, 7, 18, 12, 19, 14, 9, 22, 16, 21, 6, 20, 10, 4, 5, 23, 17, 3, 15, 11, 0, 2, 1]\n",
      "[16, 3, 22, 20, 12, 13, 15, 6, 10, 2, 7, 19, 11, 18, 23, 14, 1, 17, 8, 9, 4, 21, 5, 0]\n",
      "[4, 1, 13, 16, 12, 5, 3, 17, 2, 14, 7, 6, 15, 9, 23, 10, 11, 22, 18, 8, 19, 20, 21, 0]\n",
      "[1, 4, 13, 0, 12, 2, 5, 15, 9, 10, 14, 3, 8, 17, 11, 22, 7, 6, 16, 20, 18, 19, 21, 23]\n",
      "[12, 1, 4, 13, 16, 5, 0, 3, 17, 19, 2, 18, 14, 10, 15, 6, 20, 9, 7, 8, 22, 21, 11, 23]\n",
      "[13, 12, 16, 5, 4, 17, 15, 3, 9, 14, 6, 7, 8, 11, 10, 20, 19, 18, 21, 23, 22, 1, 0, 2]\n",
      "[12, 13, 0, 5, 4, 16, 14, 17, 15, 10, 7, 11, 18, 21, 19, 22, 23, 8, 20, 6, 9, 1, 2, 3]\n",
      "[0, 13, 1, 4, 12, 16, 17, 5, 3, 8, 2, 6, 20, 7, 10, 15, 14, 22, 18, 21, 19, 9, 11, 23]\n",
      "[1, 13, 12, 16, 0, 4, 5, 17, 3, 15, 6, 18, 7, 20, 19, 2, 8, 9, 22, 10, 11, 14, 21, 23]\n",
      "[12, 4, 13, 16, 0, 1, 17, 5, 7, 15, 3, 20, 10, 2, 19, 14, 8, 6, 18, 23, 22, 11, 9, 21]\n",
      "[13, 0, 4, 16, 1, 12, 17, 5, 3, 2, 7, 10, 8, 19, 22, 6, 15, 18, 21, 14, 11, 20, 23, 9]\n",
      "[16, 4, 12, 13, 1, 0, 17, 5, 15, 22, 10, 14, 3, 2, 19, 7, 20, 8, 18, 6, 9, 21, 11, 23]\n",
      "[1, 12, 13, 16, 0, 4, 5, 14, 7, 17, 3, 15, 18, 2, 20, 10, 22, 8, 19, 6, 9, 21, 11, 23]\n",
      "[4, 16, 13, 1, 5, 0, 12, 6, 7, 15, 17, 20, 14, 22, 9, 2, 21, 3, 8, 11, 19, 18, 23, 10]\n",
      "[17, 13, 0, 16, 1, 6, 19, 11, 2, 20, 14, 22, 18, 5, 15, 12, 21, 10, 23, 9, 8, 3, 4, 7]\n"
     ]
    }
   ],
   "source": [
    "sorted_cpu_ids=[]\n",
    "\n",
    "for data in layer_ex:\n",
    "    original_indices = [index for index, _ in sorted(enumerate(data), key=lambda x: x[1])]\n",
    "    sorted_cpu_ids.append(original_indices)\n",
    "    \n",
    "for j in sorted_cpu_ids:\n",
    "    print(j)"
   ]
  },
  {
   "cell_type": "code",
   "execution_count": 7,
   "metadata": {},
   "outputs": [],
   "source": [
    "import pickle\n",
    "\n",
    "with open('self_driving_mtl_naive_cpuProfiling_mappings.pkl', 'wb') as file:\n",
    "    pickle.dump(sorted_cpu_ids, file)"
   ]
  },
  {
   "cell_type": "code",
   "execution_count": 8,
   "metadata": {},
   "outputs": [],
   "source": [
    "with open('self_driving_mtl_naive_cpuProfiling_mappings.pkl', 'rb') as file:\n",
    "        squeeznet_naive_profile = pickle.load(file)"
   ]
  },
  {
   "cell_type": "code",
   "execution_count": 9,
   "metadata": {},
   "outputs": [
    {
     "name": "stdout",
     "output_type": "stream",
     "text": [
      "[0, 1, 2, 3, 4, 5, 6, 7, 8, 9, 10, 11, 12, 13, 14, 15, 16, 17, 18, 19, 20, 21, 22, 23]\n",
      "[0, 6, 12, 18, 1, 23, 7, 16, 5, 19, 8, 17, 20, 15, 11, 22, 13, 10, 3, 14, 9, 4, 2, 21]\n",
      "[18, 6, 13, 12, 15, 11, 16, 7, 10, 14, 19, 21, 4, 8, 20, 9, 22, 2, 5, 17, 23, 3, 0, 1]\n",
      "[8, 13, 7, 18, 12, 19, 14, 9, 22, 16, 21, 6, 20, 10, 4, 5, 23, 17, 3, 15, 11, 0, 2, 1]\n",
      "[16, 3, 22, 20, 12, 13, 15, 6, 10, 2, 7, 19, 11, 18, 23, 14, 1, 17, 8, 9, 4, 21, 5, 0]\n",
      "[4, 1, 13, 16, 12, 5, 3, 17, 2, 14, 7, 6, 15, 9, 23, 10, 11, 22, 18, 8, 19, 20, 21, 0]\n",
      "[1, 4, 13, 0, 12, 2, 5, 15, 9, 10, 14, 3, 8, 17, 11, 22, 7, 6, 16, 20, 18, 19, 21, 23]\n",
      "[12, 1, 4, 13, 16, 5, 0, 3, 17, 19, 2, 18, 14, 10, 15, 6, 20, 9, 7, 8, 22, 21, 11, 23]\n",
      "[13, 12, 16, 5, 4, 17, 15, 3, 9, 14, 6, 7, 8, 11, 10, 20, 19, 18, 21, 23, 22, 1, 0, 2]\n",
      "[12, 13, 0, 5, 4, 16, 14, 17, 15, 10, 7, 11, 18, 21, 19, 22, 23, 8, 20, 6, 9, 1, 2, 3]\n",
      "[0, 13, 1, 4, 12, 16, 17, 5, 3, 8, 2, 6, 20, 7, 10, 15, 14, 22, 18, 21, 19, 9, 11, 23]\n",
      "[1, 13, 12, 16, 0, 4, 5, 17, 3, 15, 6, 18, 7, 20, 19, 2, 8, 9, 22, 10, 11, 14, 21, 23]\n",
      "[12, 4, 13, 16, 0, 1, 17, 5, 7, 15, 3, 20, 10, 2, 19, 14, 8, 6, 18, 23, 22, 11, 9, 21]\n",
      "[13, 0, 4, 16, 1, 12, 17, 5, 3, 2, 7, 10, 8, 19, 22, 6, 15, 18, 21, 14, 11, 20, 23, 9]\n",
      "[16, 4, 12, 13, 1, 0, 17, 5, 15, 22, 10, 14, 3, 2, 19, 7, 20, 8, 18, 6, 9, 21, 11, 23]\n",
      "[1, 12, 13, 16, 0, 4, 5, 14, 7, 17, 3, 15, 18, 2, 20, 10, 22, 8, 19, 6, 9, 21, 11, 23]\n",
      "[4, 16, 13, 1, 5, 0, 12, 6, 7, 15, 17, 20, 14, 22, 9, 2, 21, 3, 8, 11, 19, 18, 23, 10]\n",
      "[17, 13, 0, 16, 1, 6, 19, 11, 2, 20, 14, 22, 18, 5, 15, 12, 21, 10, 23, 9, 8, 3, 4, 7]\n"
     ]
    }
   ],
   "source": [
    "for j in squeeznet_naive_profile:\n",
    "    print(j)"
   ]
  },
  {
   "cell_type": "code",
   "execution_count": 2,
   "metadata": {},
   "outputs": [
    {
     "data": {
      "text/plain": [
       "24"
      ]
     },
     "execution_count": 2,
     "metadata": {},
     "output_type": "execute_result"
    }
   ],
   "source": [
    "log_cpu=[True]*24\n",
    "len(log_cpu)"
   ]
  }
 ],
 "metadata": {
  "kernelspec": {
   "display_name": "nnsc",
   "language": "python",
   "name": "python3"
  },
  "language_info": {
   "codemirror_mode": {
    "name": "ipython",
    "version": 3
   },
   "file_extension": ".py",
   "mimetype": "text/x-python",
   "name": "python",
   "nbconvert_exporter": "python",
   "pygments_lexer": "ipython3",
   "version": "3.11.8"
  }
 },
 "nbformat": 4,
 "nbformat_minor": 2
}
