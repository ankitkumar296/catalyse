{
 "cells": [
  {
   "cell_type": "code",
   "execution_count": 15,
   "metadata": {},
   "outputs": [],
   "source": [
    "import numpy as np\n",
    "import matplotlib.pyplot as plt\n",
    "import csv"
   ]
  },
  {
   "cell_type": "code",
   "execution_count": 16,
   "metadata": {},
   "outputs": [],
   "source": [
    "NO_OF_CPU=24\n",
    "NO_OF_LAYER=18"
   ]
  },
  {
   "cell_type": "code",
   "execution_count": 17,
   "metadata": {},
   "outputs": [],
   "source": [
    "layers_ex=np.genfromtxt('./readings/single_layer_profile_self_driving_mtl_for_percentage.csv', delimiter=',', skip_header=0)"
   ]
  },
  {
   "cell_type": "code",
   "execution_count": 18,
   "metadata": {},
   "outputs": [],
   "source": [
    "conv2conv = np.genfromtxt('./readings/self_driving_mtl_profiling_percentage/conv2conv.csv', delimiter=',', skip_header=0)\n",
    "conv2flat=np.genfromtxt('./readings/self_driving_mtl_profiling_percentage/conv2flat.csv', delimiter=',', skip_header=0)\n",
    "fc2act=np.genfromtxt('./readings/self_driving_mtl_profiling_percentage/fc2act.csv', delimiter=',', skip_header=0)\n",
    "fc2fc=np.genfromtxt('./readings/self_driving_mtl_profiling_percentage/fc2fc.csv', delimiter=',', skip_header=0)\n",
    "flat2fc = np.genfromtxt('./readings/self_driving_mtl_profiling_percentage/flat2fc.csv', delimiter=',', skip_header=0)\n"
   ]
  },
  {
   "cell_type": "code",
   "execution_count": 19,
   "metadata": {},
   "outputs": [],
   "source": [
    "# [add2conv,concat2conv,]\n",
    "connect_list=[]\n",
    "connect_list.append(conv2conv)\n",
    "connect_list.append(conv2flat)\n",
    "connect_list.append(fc2act)\n",
    "connect_list.append(fc2fc)\n",
    "connect_list.append(flat2fc)\n",
    "\n"
   ]
  },
  {
   "cell_type": "code",
   "execution_count": 20,
   "metadata": {},
   "outputs": [],
   "source": [
    "perc_list=[]\n",
    "for conn in connect_list:\n",
    "    minimum=conn.min()\n",
    "    maximum=conn.max()\n",
    "    average=conn.mean()\n",
    "    perc_list.append([minimum,maximum,average])"
   ]
  },
  {
   "cell_type": "code",
   "execution_count": 21,
   "metadata": {},
   "outputs": [
    {
     "data": {
      "text/plain": [
       "[[19.446536441480582, 69.37092477133615, 53.466440443427345],\n",
       " [30.843497484502414, 83.64772300565895, 63.567398140299524],\n",
       " [36.92129397661234, 83.5769264115064, 69.05658725765056],\n",
       " [33.111206939849396, 83.35444111634527, 67.07591829648368],\n",
       " [41.36687939461383, 80.70702795705338, 70.26569748693989]]"
      ]
     },
     "execution_count": 21,
     "metadata": {},
     "output_type": "execute_result"
    }
   ],
   "source": [
    "perc_list"
   ]
  },
  {
   "cell_type": "code",
   "execution_count": 22,
   "metadata": {},
   "outputs": [
    {
     "name": "stdout",
     "output_type": "stream",
     "text": [
      "[0.0, 0.0010636157082141533, 0.0008876942083588801, 0.0006447426227775092, 6.042433111967208e-05, 0.0009091763774146481, 0.00042120120633626357, 0.00013738358878375342, 0.00033314583197352476, 0.00033101562682228786, 0.00027621645616212237, 0.000276661627140129, 0.00027580312719995465, 0.00027542791455440846, 0.0002744210008434796, 0.000274921456972758, 7.856858428567648e-05, 8.054145898010272e-05]\n"
     ]
    }
   ],
   "source": [
    "layer_ets=[]\n",
    "for lay in layers_ex:\n",
    "    # print(lay)\n",
    "    layer_ets.append(lay.mean())\n",
    "    \n",
    "print((layer_ets))"
   ]
  },
  {
   "cell_type": "code",
   "execution_count": 23,
   "metadata": {},
   "outputs": [
    {
     "name": "stdout",
     "output_type": "stream",
     "text": [
      "conv2conv\n",
      "[0.0010636157082141533, 0.00020683641629517708, 0.0007378400528013545, 0.0005686774591792583]\n",
      "conv2conv\n",
      "[0.0008876942083588801, 0.0001726257777174222, 0.0006158016814801466, 0.00047461849523195446]\n",
      "conv2conv\n",
      "[0.0006447426227775092, 0.000125380109092186, 0.0004472639198157255, 0.00034472093042072833]\n",
      "conv2conv\n",
      "[6.042433111967208e-05, 1.1750439570707923e-05, 4.191691728461078e-05, 3.230673901143881e-05]\n",
      "conv2conv\n",
      "[0.0009091763774146481, 0.00017680331555127257, 0.0006307040608150748, 0.00048610424635611303]\n",
      "conv2flat\n",
      "[0.00042120120633626357, 0.00012991318348101928, 0.0003523252183726518, 0.0002677466478035172]\n",
      "flat2fc\n",
      "[0.00013738358878375342, 5.6831303480167495e-05, 0.00011087821140810713, 9.653353689149366e-05]\n",
      "fc2fc\n",
      "[0.00033314583197352476, 0.00011030860583623674, 0.00027769184634393026, 0.00022346062606270228]\n",
      "fc2fc\n",
      "[0.00033101562682228786, 0.00010960326920036735, 0.00027591622574548515, 0.0002220317713959111]\n",
      "fc2fc\n",
      "[0.00027621645616212237, 9.145860240175873e-05, 0.00023023868330531195, 0.00018527472445674785]\n",
      "fc2fc\n",
      "[0.000276661627140129, 9.160600388552264e-05, 0.00023060975308604153, 0.00018557332697823525]\n",
      "fc2fc\n",
      "[0.00027580312719995465, 9.132174419375304e-05, 0.00022989415525892507, 0.00018499748025978854]\n",
      "fc2fc\n",
      "[0.00027542791455440846, 9.119750675822176e-05, 0.00022958139885523215, 0.00018474580293222388]\n",
      "fc2act\n",
      "[0.0002744210008434796, 0.00010131978445498293, 0.00022935263793267432, 0.00018950577790079548]\n",
      "fc2act\n",
      "[0.000274921456972758, 0.00010150455933369778, 0.0002297709037835632, 0.00018985137582439685]\n",
      "fc2act\n",
      "[7.856858428567648e-05, 2.900853797737706e-05, 6.566520787100222e-05, 5.42567829643389e-05]\n",
      "fc2act\n",
      "[8.054145898010272e-05, 2.9736948843096363e-05, 6.731407590255406e-05, 5.561918289917947e-05]\n"
     ]
    }
   ],
   "source": [
    "final_data=[[0,0,0]]\n",
    "NO_OF_LAYERS=18\n",
    "for i in range(1,NO_OF_LAYERS):\n",
    "    # percents=None\n",
    "    if i in [1,2,3,4,5]:\n",
    "        percents=perc_list[0]\n",
    "        print('conv2conv')\n",
    "    elif i in [6]:\n",
    "        percents=perc_list[1]\n",
    "        print('conv2flat')\n",
    "    elif i in [14,15,16,17]:\n",
    "        percents=perc_list[2]\n",
    "        print('fc2act')\n",
    "    elif i in [8,9,10,11,12,13]:\n",
    "        percents=perc_list[3]\n",
    "        print('fc2fc')\n",
    "    elif i in [7]:\n",
    "        percents= perc_list[4]\n",
    "        print('flat2fc')\n",
    "\n",
    "        \n",
    "    temp=[layer_ets[i],(layer_ets[i]*percents[0])/100,(layer_ets[i]*percents[1])/100,(layer_ets[i]*percents[2])/100,]\n",
    "    print(temp)\n",
    "    final_data.append(temp)\n"
   ]
  },
  {
   "cell_type": "code",
   "execution_count": 24,
   "metadata": {},
   "outputs": [],
   "source": [
    "# layer_i=[total,minimum_comm, max_comm,average_comm]\n",
    "total_et=0\n",
    "min_comm=0\n",
    "max_comm=0\n",
    "ave_comm=0\n",
    "\n",
    "for j in final_data[1:]:\n",
    "    total_et +=j[0]\n",
    "    min_comm +=j[1]\n",
    "    max_comm +=j[2]\n",
    "    ave_comm +=j[3]"
   ]
  },
  {
   "cell_type": "code",
   "execution_count": 26,
   "metadata": {},
   "outputs": [
    {
     "name": "stdout",
     "output_type": "stream",
     "text": [
      "0.006600961127939323\n",
      "0.0017272061080729666\n",
      "0.0050027649500623906\n",
      "0.003946024906568823\n"
     ]
    }
   ],
   "source": [
    "# Ave_comm = 59.78 %, Min_comm= 26.16%  Max_comm=75.78\n",
    "print(total_et)\n",
    "print(min_comm)\n",
    "print(max_comm)\n",
    "print(ave_comm)"
   ]
  }
 ],
 "metadata": {
  "kernelspec": {
   "display_name": "nnpart",
   "language": "python",
   "name": "python3"
  },
  "language_info": {
   "codemirror_mode": {
    "name": "ipython",
    "version": 3
   },
   "file_extension": ".py",
   "mimetype": "text/x-python",
   "name": "python",
   "nbconvert_exporter": "python",
   "pygments_lexer": "ipython3",
   "version": "3.11.8"
  }
 },
 "nbformat": 4,
 "nbformat_minor": 2
}
