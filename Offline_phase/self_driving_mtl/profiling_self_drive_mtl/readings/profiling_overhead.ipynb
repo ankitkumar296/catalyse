{
 "cells": [
  {
   "cell_type": "code",
   "execution_count": 2,
   "metadata": {},
   "outputs": [],
   "source": [
    "import numpy as np"
   ]
  },
  {
   "cell_type": "code",
   "execution_count": 6,
   "metadata": {},
   "outputs": [
    {
     "name": "stdout",
     "output_type": "stream",
     "text": [
      "0.009286892802920194 0.008017919986741617\n",
      "Total Communication profiling Time : 5.3492502544820315 Minutes\n",
      "Part1 of profiling takes 6.686562818102539 Seconds\n"
     ]
    }
   ],
   "source": [
    "new_layers_ex=np.genfromtxt('./single_layer_profile_self_driving_mtl_for_percentage.csv', delimiter=',', skip_header=0)\n",
    "ave_layers_ex=np.genfromtxt('./single_layer_ave_profile_self_driving_mtl_for_percentage.csv', delimiter=',', skip_header=0)\n",
    "actual_et=[]\n",
    "actual_et_ave=[]\n",
    "\n",
    "for lay in new_layers_ex:\n",
    "    temp=np.max(lay)\n",
    "    actual_et.append(temp)\n",
    "    \n",
    "for lay in ave_layers_ex:\n",
    "    temp=np.max(lay)\n",
    "    actual_et_ave.append(temp)\n",
    "actual_et_ave= sum(actual_et_ave)\n",
    "actual_et= sum(actual_et)\n",
    "\n",
    "print(actual_et_ave,actual_et)\n",
    "no_of_exp=30\n",
    "no_of_pe=24\n",
    "profiling_time=0\n",
    "\n",
    "profiling_time = 2 * actual_et_ave * no_of_pe * no_of_pe * no_of_exp\n",
    "print(f\"Total Communication profiling Time : {profiling_time/60} Minutes\")\n",
    "part1=actual_et_ave * no_of_exp * no_of_pe\n",
    "print(f\"Part1 of profiling takes {part1} Seconds\")"
   ]
  },
  {
   "cell_type": "code",
   "execution_count": null,
   "metadata": {},
   "outputs": [],
   "source": []
  }
 ],
 "metadata": {
  "kernelspec": {
   "display_name": "nnsc",
   "language": "python",
   "name": "python3"
  },
  "language_info": {
   "codemirror_mode": {
    "name": "ipython",
    "version": 3
   },
   "file_extension": ".py",
   "mimetype": "text/x-python",
   "name": "python",
   "nbconvert_exporter": "python",
   "pygments_lexer": "ipython3",
   "version": "3.11.8"
  }
 },
 "nbformat": 4,
 "nbformat_minor": 2
}
