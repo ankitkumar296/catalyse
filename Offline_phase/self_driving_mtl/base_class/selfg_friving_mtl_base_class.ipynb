{
 "cells": [
  {
   "cell_type": "code",
   "execution_count": 1,
   "metadata": {},
   "outputs": [
    {
     "name": "stderr",
     "output_type": "stream",
     "text": [
      "2024-05-19 15:07:56.037087: I external/local_tsl/tsl/cuda/cudart_stub.cc:32] Could not find cuda drivers on your machine, GPU will not be used.\n",
      "2024-05-19 15:07:56.039384: I external/local_tsl/tsl/cuda/cudart_stub.cc:32] Could not find cuda drivers on your machine, GPU will not be used.\n",
      "2024-05-19 15:07:56.067052: I tensorflow/core/platform/cpu_feature_guard.cc:210] This TensorFlow binary is optimized to use available CPU instructions in performance-critical operations.\n",
      "To enable the following instructions: AVX2 FMA, in other operations, rebuild TensorFlow with the appropriate compiler flags.\n",
      "2024-05-19 15:07:56.554791: W tensorflow/compiler/tf2tensorrt/utils/py_utils.cc:38] TF-TRT Warning: Could not find TensorRT\n"
     ]
    }
   ],
   "source": [
    "import tensorflow as tf\n",
    "from tensorflow.keras import layers, models\n",
    "import matplotlib.pyplot as plt\n",
    "import numpy as np\n",
    "import time\n",
    "import pickle"
   ]
  },
  {
   "cell_type": "code",
   "execution_count": 7,
   "metadata": {},
   "outputs": [],
   "source": [
    "class self_driving_mtl():\n",
    "    def __init__(self) -> None:\n",
    "            \n",
    "        input_shape = (140, 208, 3)\n",
    "\n",
    "        # Create input layer\n",
    "        inputs = layers.Input(shape=input_shape ,name='0_input_layer')\n",
    "\n",
    "        # Backbone network\n",
    "        backbone_output = self.backbone_network(inputs)\n",
    "        \n",
    "        classification_output = self.classification_branch(backbone_output)\n",
    "\n",
    "        # Detection branch\n",
    "        detection_output = self.detection_branch(backbone_output)\n",
    "\n",
    "        # Create model\n",
    "        self.model = models.Model(inputs=inputs, outputs=[classification_output, detection_output])\n",
    "\n",
    "        # Print model summary\n",
    "        # print(self.model.summary())\n",
    "\n",
    "    \n",
    "    def backbone_network(self,inputs):\n",
    "        x = layers.Conv2D(24, (12, 12), activation='relu', strides=2, padding='valid',name='1_conv2D_1')(inputs)\n",
    "        x = layers.Conv2D(36, (8, 8), activation='relu', strides=2, padding='valid' ,name='2_conv2D_2')(x)\n",
    "        x = layers.Conv2D(48, (8, 8), activation='relu', strides=2, padding='valid' ,name='3_conv2D_2')(x)\n",
    "        x = layers.Dropout(0.5 ,name='4_dropout')(x)\n",
    "        x = layers.Conv2D(64, (5, 5), activation='relu', padding='valid', dilation_rate=2 ,name='5_conv2D_4')(x)\n",
    "        x = layers.Conv2D(64, (3, 3), activation='relu', padding='valid' ,name='6_conv2D_5')(x)\n",
    "        x = layers.Flatten(name='7_flatten')(x)\n",
    "        return x\n",
    "    \n",
    "    def classification_branch(self,backbone_output):\n",
    "        x = layers.Dense(100, activation='relu',name='8_dense_12')(backbone_output)\n",
    "        x = layers.Dense(50, activation='relu' ,name='10_dense_13')(x)\n",
    "        x = layers.Dense(10, activation='relu' ,name='12_dense_14')(x)\n",
    "        x = layers.Dense(1, activation='relu' ,name='14_dense_15')(x)\n",
    "        outputs = layers.Activation( activation='relu',  name='yaw_rate')(x)\n",
    "        return outputs\n",
    "    \n",
    "    def detection_branch(self,backbone_output):\n",
    "        x = layers.Dense(100, activation='relu' ,name='9_dense_22')(backbone_output)\n",
    "        x = layers.Dense(50, activation='relu' ,name='11_dense_23')(x)\n",
    "        x = layers.Dense(10, activation='relu' ,name='13_dense_24')(x)\n",
    "        x = layers.Dense(1, activation='relu' ,name='15_dense_25')(x)\n",
    "        outputs = layers.Activation( activation='relu', name='speed')(x)\n",
    "        return outputs\n",
    "\n",
    "    def load_weights(self):\n",
    "        self.model.load_weights('./self_driving_mtl_model.h5')\n",
    "    \n",
    "    def print_layers(self):\n",
    "        # self.layer_list=[]\n",
    "        idx=0\n",
    "        for lay in self.model.layers:\n",
    "            print(f'{idx} : {lay.input}')\n",
    "            idx+=1\n",
    "            # self.layer_list.append(lay)\n",
    "    \n",
    "    def execute_lbl(self,input_data):\n",
    "        st2=time.perf_counter()\n",
    "        out=buffer=input_data\n",
    "        for idx in range(1,len(self.model.layers)):\n",
    "            # print(f'Executing: {self.model.layers[idx]}')\n",
    "            if idx <= 7:\n",
    "                out=buffer=self.model.layers[idx](out)\n",
    "            elif idx in [8,10,12,14,16]:\n",
    "                out=self.model.layers[idx](out)\n",
    "            elif idx in [9,11,13,15,17]:\n",
    "                buffer=self.model.layers[idx](buffer)\n",
    "        et2=time.perf_counter()\n",
    "        el2=et2-st2\n",
    "        print(f'Elapsed Time: {el2}')\n",
    "        return out,buffer\n",
    "    \n",
    "    def make_partition(self):\n",
    "        self.layer_list=[]\n",
    "        self.NO_OF_LAYERS= len(self.model.layers)\n",
    "        \n",
    "        for i in range(self.NO_OF_LAYERS):\n",
    "            self.temp_layer=self.model.layers[i]\n",
    "            self.layer_list.append(self.temp_layer)\n",
    "            \n",
    "        self.partition_done = True\n",
    "    \n",
    "    def save_pickeled_layers(self):\n",
    "        # if not self.weight_set:\n",
    "        self.load_weights()\n",
    "\n",
    "        \n",
    "        # if not self.partition_done:\n",
    "        self.make_partition()\n",
    "        save_dir='../pickle_layers'\n",
    "        for i in range(len(self.layer_list)):\n",
    "            fname=f'./{save_dir}/self_driving_mtl_layer_{i}.pkl'\n",
    "            layer_weights_and_config = {\n",
    "                'weights': self.layer_list[i].get_weights(),\n",
    "                'config': tf.keras.layers.serialize(self.layer_list[i])}\n",
    "            with open(fname, 'wb') as f:\n",
    "                pickle.dump(layer_weights_and_config, f)\n",
    "                \n",
    "    def gte_input_list(self,input_data):\n",
    "        self.input_list=[]\n",
    "        st2=time.perf_counter()\n",
    "        out=buffer=input_data\n",
    "        self.input_list.append(input_data)\n",
    "        for idx in range(1,len(self.model.layers)):\n",
    "            # print(f'Executing index {idx} :  {self.model.layers[idx]}')\n",
    "            if idx <= 7:\n",
    "                self.input_list.append(out)\n",
    "                out=buffer=self.model.layers[idx](out)\n",
    "            elif idx in [8,10,12,14,16]:\n",
    "                self.input_list.append(out)\n",
    "                out=self.model.layers[idx](out)\n",
    "            elif idx in [9,11,13,15,17]:\n",
    "                self.input_list.append(buffer)\n",
    "                buffer=self.model.layers[idx](buffer)\n",
    "        et2=time.perf_counter()\n",
    "        el2=et2-st2\n",
    "        print(f'Elapsed Time: {el2}')\n",
    "        return self.input_list\n",
    "    \n",
    "    def execute_on_core(self,layer_id,input_data):\n",
    "        # dummy_data=dummy_data\n",
    "        # print(self.layer_list[layer_id].name)\n",
    "        self.temp_out=self.layer_list[layer_id](input_data)\n",
    "        \n",
    "        return self.temp_out"
   ]
  },
  {
   "cell_type": "code",
   "execution_count": 8,
   "metadata": {},
   "outputs": [],
   "source": [
    "image= np.random.rand(1, 140,208,3)"
   ]
  },
  {
   "cell_type": "code",
   "execution_count": 9,
   "metadata": {},
   "outputs": [
    {
     "name": "stdout",
     "output_type": "stream",
     "text": [
      "\u001b[1m1/1\u001b[0m \u001b[32m━━━━━━━━━━━━━━━━━━━━\u001b[0m\u001b[37m\u001b[0m \u001b[1m0s\u001b[0m 66ms/step\n",
      "[array([[0.]], dtype=float32), array([[0.00963654]], dtype=float32)]\n",
      "\u001b[1m1/1\u001b[0m \u001b[32m━━━━━━━━━━━━━━━━━━━━\u001b[0m\u001b[37m\u001b[0m \u001b[1m0s\u001b[0m 11ms/step\n",
      "[array([[0.]], dtype=float32), array([[43.223007]], dtype=float32)]\n"
     ]
    }
   ],
   "source": [
    "obj=self_driving_mtl()\n",
    "o1=obj.model.predict(image)\n",
    "print(o1)\n",
    "obj.load_weights()\n",
    "o2=obj.model.predict(image)\n",
    "print(o2)\n"
   ]
  },
  {
   "cell_type": "code",
   "execution_count": 10,
   "metadata": {},
   "outputs": [
    {
     "name": "stdout",
     "output_type": "stream",
     "text": [
      "0 : []\n",
      "1 : <KerasTensor shape=(None, 140, 208, 3), dtype=float32, sparse=None, name=0_input_layer>\n",
      "2 : <KerasTensor shape=(None, 65, 99, 24), dtype=float32, sparse=False, name=keras_tensor_17>\n",
      "3 : <KerasTensor shape=(None, 29, 46, 36), dtype=float32, sparse=False, name=keras_tensor_18>\n",
      "4 : <KerasTensor shape=(None, 11, 20, 48), dtype=float32, sparse=False, name=keras_tensor_19>\n",
      "5 : <KerasTensor shape=(None, 11, 20, 48), dtype=float32, sparse=False, name=keras_tensor_20>\n",
      "6 : <KerasTensor shape=(None, 3, 12, 64), dtype=float32, sparse=False, name=keras_tensor_21>\n",
      "7 : <KerasTensor shape=(None, 1, 10, 64), dtype=float32, sparse=False, name=keras_tensor_22>\n",
      "8 : <KerasTensor shape=(None, 640), dtype=float32, sparse=False, name=keras_tensor_23>\n",
      "9 : <KerasTensor shape=(None, 640), dtype=float32, sparse=False, name=keras_tensor_23>\n",
      "10 : <KerasTensor shape=(None, 100), dtype=float32, sparse=False, name=keras_tensor_24>\n",
      "11 : <KerasTensor shape=(None, 100), dtype=float32, sparse=False, name=keras_tensor_29>\n",
      "12 : <KerasTensor shape=(None, 50), dtype=float32, sparse=False, name=keras_tensor_25>\n",
      "13 : <KerasTensor shape=(None, 50), dtype=float32, sparse=False, name=keras_tensor_30>\n",
      "14 : <KerasTensor shape=(None, 10), dtype=float32, sparse=False, name=keras_tensor_26>\n",
      "15 : <KerasTensor shape=(None, 10), dtype=float32, sparse=False, name=keras_tensor_31>\n",
      "16 : <KerasTensor shape=(None, 1), dtype=float32, sparse=False, name=keras_tensor_27>\n",
      "17 : <KerasTensor shape=(None, 1), dtype=float32, sparse=False, name=keras_tensor_32>\n"
     ]
    }
   ],
   "source": [
    "obj.print_layers()"
   ]
  },
  {
   "cell_type": "code",
   "execution_count": 66,
   "metadata": {},
   "outputs": [],
   "source": [
    "obj.save_pickeled_layers()"
   ]
  },
  {
   "cell_type": "code",
   "execution_count": 67,
   "metadata": {},
   "outputs": [
    {
     "name": "stdout",
     "output_type": "stream",
     "text": [
      "Elapsed Time: 0.017086879000999033\n"
     ]
    },
    {
     "data": {
      "text/plain": [
       "(<tf.Tensor: shape=(1, 1), dtype=float32, numpy=array([[0.]], dtype=float32)>,\n",
       " <tf.Tensor: shape=(1, 1), dtype=float32, numpy=array([[43.157654]], dtype=float32)>)"
      ]
     },
     "execution_count": 67,
     "metadata": {},
     "output_type": "execute_result"
    }
   ],
   "source": [
    "obj.execute_lbl(image)"
   ]
  }
 ],
 "metadata": {
  "kernelspec": {
   "display_name": "nnsc",
   "language": "python",
   "name": "python3"
  },
  "language_info": {
   "codemirror_mode": {
    "name": "ipython",
    "version": 3
   },
   "file_extension": ".py",
   "mimetype": "text/x-python",
   "name": "python",
   "nbconvert_exporter": "python",
   "pygments_lexer": "ipython3",
   "version": "3.11.8"
  }
 },
 "nbformat": 4,
 "nbformat_minor": 2
}
