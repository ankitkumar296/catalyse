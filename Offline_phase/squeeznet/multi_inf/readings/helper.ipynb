{
 "cells": [
  {
   "cell_type": "code",
   "execution_count": 2,
   "metadata": {},
   "outputs": [],
   "source": [
    "import pandas as pd \n",
    "import numpy as np\n",
    "import matplotlib.pyplot as plt"
   ]
  },
  {
   "cell_type": "code",
   "execution_count": 3,
   "metadata": {},
   "outputs": [
    {
     "data": {
      "text/plain": [
       "[]"
      ]
     },
     "execution_count": 3,
     "metadata": {},
     "output_type": "execute_result"
    }
   ],
   "source": [
    "lables=['1','2','4','8','16','32']\n",
    "sets=[1,2,4,8,16,32]\n",
    "# sets=[2]\n",
    "[]"
   ]
  },
  {
   "cell_type": "code",
   "execution_count": 5,
   "metadata": {},
   "outputs": [
    {
     "name": "stdout",
     "output_type": "stream",
     "text": [
      "Readings for INF Set 1\n",
      "[0.24853132860735055, 0.2436253770720213, 0.254647518042475]\n",
      "Readings for INF Set 2\n",
      "[0.2613510204013437, 0.2456509140320122, 0.2876667988020926]\n",
      "Readings for INF Set 4\n",
      "[0.2989239973016083, 0.2664567010942846, 0.335194556042552]\n",
      "Readings for INF Set 8\n",
      "[0.35036186941433695, 0.3091470419894904, 0.412991875084117]\n",
      "Readings for INF Set 16\n",
      "[0.4395228006847901, 0.3133991882205009, 0.5459626852534711]\n",
      "Readings for INF Set 32\n",
      "[0.5923549105835264, 0.3030637272167951, 0.8403083351440728]\n"
     ]
    }
   ],
   "source": [
    "globle_list=[]\n",
    "\n",
    "for k,i in enumerate(sets):\n",
    "    no_of_inf=i\n",
    "    mins=[0]*no_of_inf\n",
    "    maxs=[0]*no_of_inf\n",
    "    aves=[0]*no_of_inf\n",
    "    for j in range(no_of_inf):\n",
    "        file=pd.read_csv(f'./random/inst_set_{i}_delay/inf{j}_greedy.csv', header=None)\n",
    "        averages = file.iloc[:, :5].mean()\n",
    "        minimums= file.iloc[:, :5].min()\n",
    "        maximums = file.iloc[:, :5].max()\n",
    "        aves[j]=averages[4]\n",
    "        mins[j]=minimums[4]\n",
    "        maxs[j]=maximums[4]\n",
    "        \n",
    "    t1=np.mean(aves)\n",
    "    t2=min(mins)\n",
    "    t3=max(maxs)\n",
    "    print(f'Readings for INF Set {lables[k]}')\n",
    "    temp=[t1,t2,t3]\n",
    "    print(temp)\n",
    "    globle_list.append(temp)\n",
    "    \n",
    "    "
   ]
  },
  {
   "cell_type": "code",
   "execution_count": 9,
   "metadata": {},
   "outputs": [
    {
     "name": "stdout",
     "output_type": "stream",
     "text": [
      "[0.11356597525591494, 0.0972243680153042, 0.1467152250697836]\n",
      "[0.14718210523424202, 0.0973854220937937, 0.2064674419816583]\n",
      "[0.146798232216679, 0.1017204700037837, 0.2554401470115408]\n",
      "[0.15893870981599317, 0.1043601209530606, 0.3240314769791439]\n",
      "[0.16514498609285508, 0.0288823019945994, 0.4512622420443222]\n"
     ]
    }
   ],
   "source": [
    "for data in globle_list:\n",
    "    print(data)"
   ]
  }
 ],
 "metadata": {
  "kernelspec": {
   "display_name": "nnsc",
   "language": "python",
   "name": "python3"
  },
  "language_info": {
   "codemirror_mode": {
    "name": "ipython",
    "version": 3
   },
   "file_extension": ".py",
   "mimetype": "text/x-python",
   "name": "python",
   "nbconvert_exporter": "python",
   "pygments_lexer": "ipython3",
   "version": "3.11.8"
  }
 },
 "nbformat": 4,
 "nbformat_minor": 2
}
