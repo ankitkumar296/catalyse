{
 "cells": [
  {
   "cell_type": "code",
   "execution_count": 3,
   "metadata": {},
   "outputs": [],
   "source": [
    "import pandas as pd \n",
    "import numpy as np\n",
    "import matplotlib.pyplot as plt"
   ]
  },
  {
   "cell_type": "code",
   "execution_count": 6,
   "metadata": {},
   "outputs": [],
   "source": [
    "lables=['4']#['1','2','4','8','16','32']\n",
    "sets=[4]#[1,2,4,8,16,32]\n",
    "# sets=[2]\n",
    "dirs=['sota_single_cpu','sota_all_cpu','random','naive_cpu','greedy','greedy_wc','static_clustering']"
   ]
  },
  {
   "cell_type": "code",
   "execution_count": 7,
   "metadata": {},
   "outputs": [
    {
     "name": "stdout",
     "output_type": "stream",
     "text": [
      "-------------sota_single_cpu---------\n",
      "Readings for INF Set 4\n",
      "[0.3159512365469709, 0.3116160011850297, 0.3195038058329373]\n",
      "-------------sota_all_cpu---------\n",
      "Readings for INF Set 4\n",
      "[0.32875812780112024, 0.3060757021885365, 0.4656568779610097]\n",
      "-------------random---------\n",
      "Readings for INF Set 4\n",
      "[0.2989239973016083, 0.2664567010942846, 0.335194556042552]\n",
      "-------------naive_cpu---------\n",
      "Readings for INF Set 4\n",
      "[0.28038342694053425, 0.2272231527604162, 0.4489560120273381]\n",
      "-------------greedy---------\n",
      "Readings for INF Set 4\n",
      "[0.25404714851756577, 0.2214873682241886, 0.3494613138027489]\n",
      "-------------greedy_wc---------\n",
      "Readings for INF Set 4\n",
      "[0.23897755833459083, 0.2169504777994007, 0.2767329369671643]\n",
      "-------------static_clustering---------\n",
      "Readings for INF Set 4\n",
      "[0.21441905495012176, 0.1976126867812127, 0.248113377019763]\n"
     ]
    }
   ],
   "source": [
    "globle_list=[]\n",
    "\n",
    "for dir_path in dirs:\n",
    "    print(f'-------------{dir_path}---------')\n",
    "    for k,i in enumerate(sets):\n",
    "        no_of_inf=i\n",
    "        mins=[0]*no_of_inf\n",
    "        maxs=[0]*no_of_inf\n",
    "        aves=[0]*no_of_inf\n",
    "        for j in range(no_of_inf):\n",
    "            file=pd.read_csv(f'./{dir_path}/inst_set_{i}_delay/inf{j}_greedy.csv', header=None)\n",
    "            averages = file.iloc[:, :5].mean()\n",
    "            minimums= file.iloc[:, :5].min()\n",
    "            maximums = file.iloc[:, :5].max()\n",
    "            aves[j]=averages[4]\n",
    "            mins[j]=minimums[4]\n",
    "            maxs[j]=maximums[4]\n",
    "            \n",
    "        t1=np.mean(aves)\n",
    "        t2=min(mins)\n",
    "        t3=max(maxs)\n",
    "        print(f'Readings for INF Set {lables[k]}')\n",
    "        temp=[t1,t2,t3]\n",
    "        print(temp)\n",
    "        globle_list.append(temp)\n",
    "    \n",
    "    "
   ]
  },
  {
   "cell_type": "code",
   "execution_count": 9,
   "metadata": {},
   "outputs": [
    {
     "name": "stdout",
     "output_type": "stream",
     "text": [
      "[0.11356597525591494, 0.0972243680153042, 0.1467152250697836]\n",
      "[0.14718210523424202, 0.0973854220937937, 0.2064674419816583]\n",
      "[0.146798232216679, 0.1017204700037837, 0.2554401470115408]\n",
      "[0.15893870981599317, 0.1043601209530606, 0.3240314769791439]\n",
      "[0.16514498609285508, 0.0288823019945994, 0.4512622420443222]\n"
     ]
    }
   ],
   "source": [
    "for data in globle_list:\n",
    "    print(data)"
   ]
  }
 ],
 "metadata": {
  "kernelspec": {
   "display_name": "nnsc",
   "language": "python",
   "name": "python3"
  },
  "language_info": {
   "codemirror_mode": {
    "name": "ipython",
    "version": 3
   },
   "file_extension": ".py",
   "mimetype": "text/x-python",
   "name": "python",
   "nbconvert_exporter": "python",
   "pygments_lexer": "ipython3",
   "version": "3.11.8"
  }
 },
 "nbformat": 4,
 "nbformat_minor": 2
}
