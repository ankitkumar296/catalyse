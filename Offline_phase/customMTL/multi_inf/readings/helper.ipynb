{
 "cells": [
  {
   "cell_type": "code",
   "execution_count": 1,
   "metadata": {},
   "outputs": [],
   "source": [
    "import pandas as pd \n",
    "import numpy as np\n",
    "import matplotlib.pyplot as plt"
   ]
  },
  {
   "cell_type": "code",
   "execution_count": 4,
   "metadata": {},
   "outputs": [],
   "source": [
    "lables=['8']#['1','2','4','8','16','32']\n",
    "sets=[8]#[1,2,4,8,16,32]\n",
    "# sets=[2]\n",
    "dirs=['sota_single_cpu','sota_all_cpu','random','naive_cpu','greedy','greedy_wc','static_clustering']"
   ]
  },
  {
   "cell_type": "code",
   "execution_count": 3,
   "metadata": {},
   "outputs": [
    {
     "name": "stdout",
     "output_type": "stream",
     "text": [
      "-------------sota_single_cpu---------\n",
      "Readings for INF Set 8\n",
      "[0.2779863019209976, 0.2724456603173166, 0.3144681099802255]\n",
      "-------------sota_all_cpu---------\n",
      "Readings for INF Set 8\n",
      "[0.2349336558498908, 0.2180469157174229, 0.3046476580202579]\n",
      "-------------random---------\n",
      "Readings for INF Set 8\n",
      "[0.21870891287884053, 0.1641866490244865, 0.290502562886104]\n",
      "-------------naive_cpu---------\n",
      "Readings for INF Set 8\n",
      "[0.2337106042910212, 0.1310445880517363, 0.3588394608814269]\n",
      "-------------greedy---------\n",
      "Readings for INF Set 8\n",
      "[0.20279806674419276, 0.1327621950767934, 0.3325317879207432]\n",
      "-------------greedy_wc---------\n",
      "Readings for INF Set 8\n",
      "[0.2050735806173179, 0.1307909940369427, 0.3116587440017611]\n",
      "-------------static_clustering---------\n",
      "Readings for INF Set 8\n",
      "[0.10903133229391336, 0.1057235631160438, 0.1126148710027337]\n"
     ]
    }
   ],
   "source": [
    "globle_list=[]\n",
    "\n",
    "for dir_path in dirs:\n",
    "    print(f'-------------{dir_path}---------')\n",
    "    for k,i in enumerate(sets):\n",
    "        no_of_inf=i\n",
    "        mins=[0]*no_of_inf\n",
    "        maxs=[0]*no_of_inf\n",
    "        aves=[0]*no_of_inf\n",
    "        for j in range(no_of_inf):\n",
    "            file=pd.read_csv(f'./{dir_path}/inst_set_{i}_delay/inf{j}_greedy.csv', header=None)\n",
    "            averages = file.iloc[:, :5].mean()\n",
    "            minimums= file.iloc[:, :5].min()\n",
    "            maximums = file.iloc[:, :5].max()\n",
    "            aves[j]=averages[4]\n",
    "            mins[j]=minimums[4]\n",
    "            maxs[j]=maximums[4]\n",
    "            \n",
    "        t1=np.mean(aves)\n",
    "        t2=min(mins)\n",
    "        t3=max(maxs)\n",
    "        print(f'Readings for INF Set {lables[k]}')\n",
    "        temp=[t1,t2,t3]\n",
    "        print(temp)\n",
    "        globle_list.append(temp)\n",
    "    \n",
    "    "
   ]
  },
  {
   "cell_type": "code",
   "execution_count": 9,
   "metadata": {},
   "outputs": [
    {
     "name": "stdout",
     "output_type": "stream",
     "text": [
      "[0.11356597525591494, 0.0972243680153042, 0.1467152250697836]\n",
      "[0.14718210523424202, 0.0973854220937937, 0.2064674419816583]\n",
      "[0.146798232216679, 0.1017204700037837, 0.2554401470115408]\n",
      "[0.15893870981599317, 0.1043601209530606, 0.3240314769791439]\n",
      "[0.16514498609285508, 0.0288823019945994, 0.4512622420443222]\n"
     ]
    }
   ],
   "source": [
    "for data in globle_list:\n",
    "    print(data)"
   ]
  }
 ],
 "metadata": {
  "kernelspec": {
   "display_name": "nnsc",
   "language": "python",
   "name": "python3"
  },
  "language_info": {
   "codemirror_mode": {
    "name": "ipython",
    "version": 3
   },
   "file_extension": ".py",
   "mimetype": "text/x-python",
   "name": "python",
   "nbconvert_exporter": "python",
   "pygments_lexer": "ipython3",
   "version": "3.11.8"
  }
 },
 "nbformat": 4,
 "nbformat_minor": 2
}
