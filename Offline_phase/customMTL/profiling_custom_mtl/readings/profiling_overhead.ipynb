{
 "cells": [
  {
   "cell_type": "code",
   "execution_count": 1,
   "metadata": {},
   "outputs": [],
   "source": [
    "import numpy as np"
   ]
  },
  {
   "cell_type": "code",
   "execution_count": 3,
   "metadata": {},
   "outputs": [
    {
     "name": "stdout",
     "output_type": "stream",
     "text": [
      "0.00806584927253425 0.006808029254898429\n",
      "Total Communication profiling Time : 3.8716076508164394 Minutes\n",
      "Part1 of profiling takes 4.83950956352055 Seconds\n"
     ]
    }
   ],
   "source": [
    "new_layers_ex=np.genfromtxt('./single_layer_profile_custom_mtl_for_percentage.csv', delimiter=',', skip_header=0)\n",
    "ave_layers_ex=np.genfromtxt('./single_layer_ave_profile_custom_mtl_for_percentage.csv', delimiter=',', skip_header=0)\n",
    "actual_et=[]\n",
    "actual_et_ave=[]\n",
    "\n",
    "for lay in new_layers_ex:\n",
    "    temp=np.max(lay)\n",
    "    actual_et.append(temp)\n",
    "    \n",
    "for lay in ave_layers_ex:\n",
    "    temp=np.max(lay)\n",
    "    actual_et_ave.append(temp)\n",
    "actual_et_ave= sum(actual_et_ave)\n",
    "actual_et= sum(actual_et)\n",
    "\n",
    "print(actual_et_ave,actual_et)\n",
    "no_of_exp=25\n",
    "no_of_pe=24\n",
    "profiling_time=0\n",
    "\n",
    "profiling_time = 2 * actual_et_ave * no_of_pe * no_of_pe * no_of_exp\n",
    "print(f\"Total Communication profiling Time : {profiling_time/60} Minutes\")\n",
    "part1=actual_et_ave * no_of_exp * no_of_pe\n",
    "print(f\"Part1 of profiling takes {part1} Seconds\")"
   ]
  }
 ],
 "metadata": {
  "kernelspec": {
   "display_name": "nnsc",
   "language": "python",
   "name": "python3"
  },
  "language_info": {
   "codemirror_mode": {
    "name": "ipython",
    "version": 3
   },
   "file_extension": ".py",
   "mimetype": "text/x-python",
   "name": "python",
   "nbconvert_exporter": "python",
   "pygments_lexer": "ipython3",
   "version": "3.11.8"
  }
 },
 "nbformat": 4,
 "nbformat_minor": 2
}
