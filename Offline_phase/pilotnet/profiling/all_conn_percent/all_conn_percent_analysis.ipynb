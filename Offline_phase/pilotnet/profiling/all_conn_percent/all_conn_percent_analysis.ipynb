{
 "cells": [
  {
   "cell_type": "code",
   "execution_count": 2,
   "metadata": {},
   "outputs": [],
   "source": [
    "import numpy as np\n",
    "import matplotlib.pyplot as plt\n",
    "import csv"
   ]
  },
  {
   "cell_type": "code",
   "execution_count": 3,
   "metadata": {},
   "outputs": [],
   "source": [
    "NO_OF_CPU=24\n",
    "NO_OF_LAYER=11"
   ]
  },
  {
   "cell_type": "code",
   "execution_count": 19,
   "metadata": {},
   "outputs": [],
   "source": [
    "layers_ex=np.genfromtxt('./pilotnet_profiling_percentage/single_layer_profile_pilotnet_for_percentage.csv', delimiter=',', skip_header=0)"
   ]
  },
  {
   "cell_type": "code",
   "execution_count": 4,
   "metadata": {},
   "outputs": [],
   "source": [
    "lay_0_1 = np.genfromtxt('./lay_0_1.csv', delimiter=',', skip_header=0)\n",
    "lay_1_2=np.genfromtxt('./lay_1_2.csv', delimiter=',', skip_header=0)\n",
    "lay_2_3=np.genfromtxt('./lay_2_3.csv', delimiter=',', skip_header=0)\n",
    "lay_3_4=np.genfromtxt('./lay_3_4.csv', delimiter=',', skip_header=0)\n",
    "lay_4_5=np.genfromtxt('./lay_4_5.csv', delimiter=',', skip_header=0)\n",
    "lay_5_6=np.genfromtxt('./lay_5_6.csv', delimiter=',', skip_header=0)\n",
    "lay_6_7=np.genfromtxt('./lay_6_7.csv', delimiter=',', skip_header=0)\n",
    "lay_7_8=np.genfromtxt('./lay_7_8.csv', delimiter=',', skip_header=0)\n",
    "lay_8_9=np.genfromtxt('./lay_8_9.csv', delimiter=',', skip_header=0)\n",
    "lay_9_10=np.genfromtxt('./lay_9_10.csv', delimiter=',', skip_header=0)"
   ]
  },
  {
   "cell_type": "code",
   "execution_count": 5,
   "metadata": {},
   "outputs": [],
   "source": [
    "# [conv2conv, conv2pool, pool2conv,pool2flat,flat2fc, fc2fc]\n",
    "connect_list=[]\n",
    "connect_list.append(lay_0_1)\n",
    "connect_list.append(lay_1_2)\n",
    "connect_list.append(lay_2_3)\n",
    "connect_list.append(lay_3_4)\n",
    "connect_list.append(lay_4_5)\n",
    "connect_list.append(lay_5_6)\n",
    "connect_list.append(lay_6_7)\n",
    "connect_list.append(lay_7_8)\n",
    "connect_list.append(lay_8_9)\n",
    "connect_list.append(lay_9_10)\n",
    "\n"
   ]
  },
  {
   "cell_type": "code",
   "execution_count": 6,
   "metadata": {},
   "outputs": [],
   "source": [
    "perc_list=[]\n",
    "for conn in connect_list:\n",
    "    minimum=conn.min()\n",
    "    maximum=conn.max()\n",
    "    average=conn.mean()\n",
    "    perc_list.append([minimum,maximum,average])"
   ]
  },
  {
   "cell_type": "code",
   "execution_count": 7,
   "metadata": {},
   "outputs": [
    {
     "data": {
      "text/plain": [
       "[[14.39640407411908, 64.13675190878541, 38.32480761067601],\n",
       " [23.91043622919533, 74.2422974204843, 60.016704321054085],\n",
       " [26.316986752367523, 75.13561140377996, 60.778812442528434],\n",
       " [28.303918231261477, 73.47159700325663, 59.68913369422853],\n",
       " [28.306372198091402, 73.6428552889673, 59.78572262271187],\n",
       " [30.021750300222767, 79.02056329885826, 65.54628281648372],\n",
       " [37.48262226935479, 86.16296207141568, 70.64939556121912],\n",
       " [33.296387603351754, 84.85020053928734, 66.8859079742507],\n",
       " [30.727248498793365, 80.67282050203222, 65.1688843487579],\n",
       " [29.50517380309032, 79.22753215102611, 65.48306961283268]]"
      ]
     },
     "execution_count": 7,
     "metadata": {},
     "output_type": "execute_result"
    }
   ],
   "source": [
    "# perc_list=[[14.39640407411908, 64.13675190878541, 38.32480761067601],\n",
    "#  [23.91043622919533, 74.2422974204843, 60.016704321054085],\n",
    "#  [26.316986752367523, 75.13561140377996, 60.778812442528434],\n",
    "#  [28.303918231261477, 73.47159700325663, 59.68913369422853],\n",
    "#  [28.306372198091402, 73.6428552889673, 59.78572262271187],\n",
    "#  [30.021750300222767, 79.02056329885826, 65.54628281648372],\n",
    "#  [37.48262226935479, 86.16296207141568, 70.64939556121912],\n",
    "#  [33.296387603351754, 84.85020053928734, 66.8859079742507],\n",
    "#  [30.727248498793365, 80.67282050203222, 65.1688843487579],\n",
    "#  [29.50517380309032, 79.22753215102611, 65.48306961283268]]\n",
    "\n",
    "\n",
    "perc_list"
   ]
  },
  {
   "cell_type": "code",
   "execution_count": 35,
   "metadata": {},
   "outputs": [
    {
     "name": "stdout",
     "output_type": "stream",
     "text": [
      "[0.0012218129581924586, 0.0005512193743015814, 0.0005699064583192618, 0.0004975174583705666, 0.0004693630417023087, 0.0004505610415132348, 0.00013866145809515729, 0.0003068633336624771, 0.00027896262539191713, 0.0002785970835551173, 0.0002573848331242819]\n"
     ]
    }
   ],
   "source": [
    "layer_ets=[]\n",
    "for lay in layers_ex:\n",
    "    # print(lay)\n",
    "    layer_ets.append(lay.mean())\n",
    "    \n",
    "print((layer_ets))"
   ]
  },
  {
   "cell_type": "code",
   "execution_count": 36,
   "metadata": {},
   "outputs": [
    {
     "name": "stdout",
     "output_type": "stream",
     "text": [
      "n2c\n",
      "[0.0012218129581924586, 0.00018319368531826227, 0.0010393845977112854, 0.0004849922314843608]\n",
      "c2c\n",
      "[0.0005512193743015814, 0.0001445876708403931, 0.0004137612945196592, 0.00033646906465799916]\n",
      "c2c\n",
      "[0.0005699064583192618, 0.0001494893888838465, 0.00042778836329558867, 0.00034787582206485026]\n",
      "c2c\n",
      "[0.0004975174583705666, 0.00013050138268339543, 0.00037345107450615554, 0.00030368895157408356]\n",
      "c2c\n",
      "[0.0004693630417023087, 0.0001231163346975709, 0.00035231755048613296, 0.0002865032525874267]\n",
      "c2c\n",
      "[0.0004505610415132348, 0.00011818447355258968, 0.0003382042222896284, 0.00027502634935750505]\n",
      "c2fl\n",
      "[0.00013866145809515729, 4.742150265515949e-05, 0.00010995130667513042, 9.241971886595229e-05]\n",
      "fl2fc\n",
      "[0.0003068633336624771, 0.00011742774433096152, 0.00025047583289470563, 0.00021473432470898193]\n",
      "fc2fc\n",
      "[0.00027896262539191713, 0.0001067509482525753, 0.00022770200371475087, 0.0001952101942829896]\n",
      "fc2fc\n",
      "[0.0002785970835551173, 0.00010661106593805539, 0.0002274036318143432, 0.0001949543983931997]\n",
      "fc2fc\n",
      "[0.0002573848331242819, 9.849374970301688e-05, 0.00021008922663331048, 0.00018011066252727394]\n"
     ]
    }
   ],
   "source": [
    "final_data=[]\n",
    "NO_OF_LAYERS=11\n",
    "for i in range(NO_OF_LAYERS):\n",
    "    # percents=None\n",
    "    if i in [0]:\n",
    "        percents=perc_list[0]\n",
    "        print('n2c')\n",
    "    elif i in [1,2,3,4,5]:\n",
    "        percents=perc_list[1]\n",
    "        print('c2c')\n",
    "    elif i in [6]:\n",
    "        percents=perc_list[2]\n",
    "        print('c2fl')\n",
    "    elif i in [7]:\n",
    "        percents=perc_list[3]\n",
    "        print('fl2fc')\n",
    "    elif i in [8,9,10]:\n",
    "        percents= perc_list[4]\n",
    "        print('fc2fc')\n",
    "\n",
    "        \n",
    "    temp=[layer_ets[i],(layer_ets[i]*percents[0])/100,(layer_ets[i]*percents[1])/100,(layer_ets[i]*percents[2])/100,]\n",
    "    print(temp)\n",
    "    final_data.append(temp)\n"
   ]
  },
  {
   "cell_type": "code",
   "execution_count": 37,
   "metadata": {},
   "outputs": [],
   "source": [
    "# layer_i=[total,minimum_comm, max_comm,average_comm]\n",
    "total_et=0\n",
    "min_comm=0\n",
    "max_comm=0\n",
    "ave_comm=0\n",
    "\n",
    "for j in final_data:\n",
    "    total_et +=j[0]\n",
    "    min_comm +=j[1]\n",
    "    max_comm +=j[2]\n",
    "    ave_comm +=j[3]"
   ]
  },
  {
   "cell_type": "code",
   "execution_count": 39,
   "metadata": {},
   "outputs": [
    {
     "name": "stdout",
     "output_type": "stream",
     "text": [
      "0.0050208496662283615\n",
      "0.0013257779468558266\n",
      "0.003970529104540691\n",
      "0.0029119849705046227\n"
     ]
    }
   ],
   "source": [
    "# Ave_comm = 57.98 %, Min_comm= 26.39%  Max_comm=79.08\n",
    "print(total_et)\n",
    "print(min_comm)\n",
    "print(max_comm)\n",
    "print(ave_comm)"
   ]
  }
 ],
 "metadata": {
  "kernelspec": {
   "display_name": "nnpart",
   "language": "python",
   "name": "python3"
  },
  "language_info": {
   "codemirror_mode": {
    "name": "ipython",
    "version": 3
   },
   "file_extension": ".py",
   "mimetype": "text/x-python",
   "name": "python",
   "nbconvert_exporter": "python",
   "pygments_lexer": "ipython3",
   "version": "3.11.8"
  }
 },
 "nbformat": 4,
 "nbformat_minor": 2
}
